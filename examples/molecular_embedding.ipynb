{
 "cells": [
  {
   "cell_type": "code",
   "execution_count": 1,
   "metadata": {},
   "outputs": [],
   "source": [
    "import os\n",
    "import numpy as np\n",
    "import pandas as pd\n",
    "import pickle\n",
    "\n",
    "import tensorflow as tf\n",
    "import tensorflow.keras.backend as K\n",
    "import logging \n",
    "\n",
    "import sys\n",
    "import inference as infr\n",
    "import utils\n",
    "\n",
    "from rdkit import Chem\n",
    "\n"
   ]
  },
  {
   "cell_type": "code",
   "execution_count": 2,
   "metadata": {},
   "outputs": [],
   "source": [
    "logging.basicConfig(level=logging.INFO, format ='%(levelname)s - %(message)s')\n",
    "tf.logging.set_verbosity(tf.logging.ERROR)"
   ]
  },
  {
   "cell_type": "markdown",
   "metadata": {},
   "source": [
    "### Arguments"
   ]
  },
  {
   "cell_type": "code",
   "execution_count": 8,
   "metadata": {},
   "outputs": [
    {
     "data": {
      "text/plain": [
       "'Data/Compound_dataset/CellPainting_30kcpds_molecular_embeddings__unique_SMILES.csv'"
      ]
     },
     "execution_count": 8,
     "metadata": {},
     "output_type": "execute_result"
    }
   ],
   "source": [
    "\n",
    "args = {\n",
    "    'gpu': 7,\n",
    "    'filename_train_cpds':'Data/Compound_dataset/CellPainting_30kcpds_normalized_profiles__final__only_metadata.csv',\n",
    "    'model_weight_paths':{\n",
    "        'autoencoder': 'Trained_models/Selfies_Autoencoder/selfies_EncoderDecoder_epoch0010.h5',\n",
    "        'wgan':{\n",
    "            'C': 'Trained_models/WGAN/wgan_C_500epochs.h5', \n",
    "            'D': 'Trained_models/WGAN/wgan_D_500epochs.h5',\n",
    "            'G1':'Trained_models/WGAN/wgan_G1_500epochs.h5',\n",
    "            'condition_encoder':'Trained_models/WGAN/wgan_condition_encoder_500epochs.h5',\n",
    "            'classifier':'Trained_models/WGAN/wgan_classifier.h5',\n",
    "        }\n",
    "    },\n",
    "}\n",
    "\n",
    "args['output_file'] = args['filename_train_cpds'].replace('normalized_profiles__final__only_metadata','molecular_embeddings__unique_SMILES')\n",
    "args['output_file']"
   ]
  },
  {
   "cell_type": "markdown",
   "metadata": {},
   "source": [
    "### Load data"
   ]
  },
  {
   "cell_type": "code",
   "execution_count": 5,
   "metadata": {},
   "outputs": [],
   "source": [
    "train = pd.read_csv(args['filename_train_cpds'], index_col=0)\n",
    "train = train.loc[ train.Metadata_broad_sample !='DMSO'  ].reset_index(drop=True)\n",
    "keep_idx = train.SMILES_standard.apply(lambda x: len(x) < infr.max_smiles_length )\n",
    "train = train.loc[keep_idx].reset_index(drop=True)  \n",
    "\n",
    "# keep only unique SMILES to reduce computaiton and stroage, sicne there are several repetitions per compound\n",
    "train = pd.DataFrame( train[[\"SMILES_standard\"] ].drop_duplicates()).reset_index(drop=True)\n"
   ]
  },
  {
   "cell_type": "markdown",
   "metadata": {},
   "source": [
    "### Load model ands set GPU"
   ]
  },
  {
   "cell_type": "code",
   "execution_count": 6,
   "metadata": {},
   "outputs": [],
   "source": [
    "os.environ['CUDA_VISIBLE_DEVICES'] = str(args['gpu'])\n",
    "gpu_options = tf.GPUOptions(visible_device_list='0')\n",
    "sess = tf.Session(config=tf.ConfigProto(gpu_options=gpu_options))\n",
    "K.set_session(sess)\n",
    "tf.config.set_soft_device_placement(True)\n",
    "tf.debugging.set_log_device_placement(True)\n",
    "\n",
    "model = infr.InferenceModel( args['model_weight_paths'] )  \n"
   ]
  },
  {
   "cell_type": "markdown",
   "metadata": {},
   "source": [
    "### Compute embeddings training set"
   ]
  },
  {
   "cell_type": "code",
   "execution_count": 10,
   "metadata": {},
   "outputs": [
    {
     "name": "stdout",
     "output_type": "stream",
     "text": [
      "loading file Data/Compound_dataset/CellPainting_30kcpds_molecular_embeddings__unique_SMILES.csv\n"
     ]
    }
   ],
   "source": [
    "if not os.path.isfile(args['output_file']):\n",
    "    logging.info(\"Computing selfies\")\n",
    "    train_smiles = train.SMILES_standard.values.astype(str)\n",
    "    train_selfies, valid_idx = model.encode_smiles_to_selfies(train_smiles)\n",
    "    logging.info(\"Removing %i unvalid selfies\"%(valid_idx==False).sum())\n",
    "    train = train.loc[valid_idx].reset_index(drop=True)\n",
    "    train_selfies = train_selfies[valid_idx]\n",
    "    logging.info(\"Computing latent representations\")\n",
    "    train_latents = model.encode_selfies_to_latent(train_selfies)\n",
    "    logging.info(\"Saving latent representations\")\n",
    "    embd_cols = ['MolEmb_'+str(i) for i in range(train_latents.shape[1])]\n",
    "    train = pd.concat( [train, pd.DataFrame( columns=embd_cols, data=train_latents)], axis=1)\n",
    "    train.to_csv(args['output_file'])\n",
    "else:\n",
    "    print('loading file %s'%args['output_file'])\n",
    "    train = pd.read_csv(args['output_file'], index_col=0)"
   ]
  },
  {
   "cell_type": "code",
   "execution_count": null,
   "metadata": {},
   "outputs": [],
   "source": []
  },
  {
   "cell_type": "code",
   "execution_count": null,
   "metadata": {},
   "outputs": [],
   "source": []
  }
 ],
 "metadata": {
  "kernelspec": {
   "display_name": "cellpaintingGAN",
   "language": "python",
   "name": "cellpaintinggan"
  },
  "language_info": {
   "codemirror_mode": {
    "name": "ipython",
    "version": 3
   },
   "file_extension": ".py",
   "mimetype": "text/x-python",
   "name": "python",
   "nbconvert_exporter": "python",
   "pygments_lexer": "ipython3",
   "version": "3.6.10"
  }
 },
 "nbformat": 4,
 "nbformat_minor": 4
}
