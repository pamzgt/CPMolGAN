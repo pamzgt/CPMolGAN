{
 "cells": [
  {
   "cell_type": "code",
   "execution_count": 1,
   "metadata": {},
   "outputs": [],
   "source": [
    "import os\n",
    "import numpy as np\n",
    "import pandas as pd\n",
    "import pickle\n",
    "import sys\n",
    "sys.path.append(\"../cp_mol_gan\" )\n",
    "import utils\n",
    "import inference as infr\n",
    "import tensorflow as tf\n",
    "import tensorflow.keras.backend as K\n",
    "tf.logging.set_verbosity(tf.logging.ERROR)\n"
   ]
  },
  {
   "cell_type": "markdown",
   "metadata": {},
   "source": [
    "### Inputs"
   ]
  },
  {
   "cell_type": "code",
   "execution_count": 2,
   "metadata": {},
   "outputs": [],
   "source": [
    "args = {\n",
    "    'smiles_file':'example_data.csv',\n",
    "    'output_file':'example_molecular_embeddings.csv',\n",
    "    'neural_net':{\n",
    "        'autoencoder': '../cp_mol_gan/data/selfies_EncoderDecoder_epoch0010.h5',\n",
    "         'wgan':{\n",
    "                'C': '../cp_mol_gan/data/wgan_C_500epochs.h5',\n",
    "                'D': '../cp_mol_gan/data/wgan_D_500epochs.h5',\n",
    "                'G':'../cp_mol_gan/data/wgan_G_500epochs.h5',\n",
    "                'condition_encoder':'../cp_mol_gan/data/wgan_condition_encoder_500epochs.h5',\n",
    "                'classifier':'../cp_mol_gan/data/wgan_classifier.h5'\n",
    "            }\n",
    "        },\n",
    "    'gpu': '7'\n",
    "}"
   ]
  },
  {
   "cell_type": "markdown",
   "metadata": {},
   "source": [
    "### Load data"
   ]
  },
  {
   "cell_type": "code",
   "execution_count": 5,
   "metadata": {},
   "outputs": [],
   "source": [
    "train = pd.read_csv(args['filename_train_cpds'], index_col=0)\n",
    "train = train.loc[ train.Metadata_broad_sample !='DMSO'  ].reset_index(drop=True)\n",
    "keep_idx = train.SMILES_standard.apply(lambda x: len(x) < infr.max_smiles_length )\n",
    "train = train.loc[keep_idx].reset_index(drop=True)  \n",
    "\n",
    "# keep only unique SMILES to reduce computaiton and stroage, sicne there are several repetitions per compound\n",
    "train = pd.DataFrame( train[[\"SMILES_standard\"] ].drop_duplicates()).reset_index(drop=True)\n"
   ]
  },
  {
   "cell_type": "markdown",
   "metadata": {},
   "source": [
    "### Load model ands set GPU"
   ]
  },
  {
   "cell_type": "code",
   "execution_count": 6,
   "metadata": {},
   "outputs": [],
   "source": [
    "os.environ['CUDA_VISIBLE_DEVICES'] = str(args['gpu'])\n",
    "gpu_options = tf.GPUOptions(visible_device_list='0')\n",
    "sess = tf.Session(config=tf.ConfigProto(gpu_options=gpu_options))\n",
    "K.set_session(sess)\n",
    "tf.config.set_soft_device_placement(True)\n",
    "tf.debugging.set_log_device_placement(True)\n",
    "\n",
    "model = infr.InferenceModel( args['model_weight_paths'] )  \n"
   ]
  },
  {
   "cell_type": "markdown",
   "metadata": {},
   "source": [
    "### Compute embeddings training set"
   ]
  },
  {
   "cell_type": "code",
   "execution_count": 10,
   "metadata": {},
   "outputs": [
    {
     "name": "stdout",
     "output_type": "stream",
     "text": [
      "loading file Data/Compound_dataset/CellPainting_30kcpds_molecular_embeddings__unique_SMILES.csv\n"
     ]
    }
   ],
   "source": [
    "if not os.path.isfile(args['output_file']):\n",
    "    logging.info(\"Computing selfies\")\n",
    "    train_smiles = train.SMILES_standard.values.astype(str)\n",
    "    train_selfies, valid_idx = model.encode_smiles_to_selfies(train_smiles)\n",
    "    logging.info(\"Removing %i unvalid selfies\"%(valid_idx==False).sum())\n",
    "    train = train.loc[valid_idx].reset_index(drop=True)\n",
    "    train_selfies = train_selfies[valid_idx]\n",
    "    logging.info(\"Computing latent representations\")\n",
    "    train_latents = model.encode_selfies_to_latent(train_selfies)\n",
    "    logging.info(\"Saving latent representations\")\n",
    "    embd_cols = ['MolEmb_'+str(i) for i in range(train_latents.shape[1])]\n",
    "    train = pd.concat( [train, pd.DataFrame( columns=embd_cols, data=train_latents)], axis=1)\n",
    "    train.to_csv(args['output_file'])\n",
    "else:\n",
    "    print('loading file %s'%args['output_file'])\n",
    "    train = pd.read_csv(args['output_file'], index_col=0)"
   ]
  },
  {
   "cell_type": "code",
   "execution_count": null,
   "metadata": {},
   "outputs": [],
   "source": []
  },
  {
   "cell_type": "code",
   "execution_count": null,
   "metadata": {},
   "outputs": [],
   "source": []
  }
 ],
 "metadata": {
  "kernelspec": {
   "display_name": "cellpaintingGAN",
   "language": "python",
   "name": "cellpaintinggan"
  },
  "language_info": {
   "codemirror_mode": {
    "name": "ipython",
    "version": 3
   },
   "file_extension": ".py",
   "mimetype": "text/x-python",
   "name": "python",
   "nbconvert_exporter": "python",
   "pygments_lexer": "ipython3",
   "version": "3.6.10"
  }
 },
 "nbformat": 4,
 "nbformat_minor": 4
}
