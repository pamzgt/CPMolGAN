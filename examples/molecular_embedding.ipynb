{
 "cells": [
  {
   "cell_type": "markdown",
   "metadata": {},
   "source": [
    "# Compute molecular embeddings from SMILES"
   ]
  },
  {
   "cell_type": "code",
   "execution_count": 1,
   "metadata": {},
   "outputs": [],
   "source": [
    "import os\n",
    "import numpy as np\n",
    "import pandas as pd\n",
    "import pickle\n",
    "import sys\n",
    "\n",
    "import tensorflow as tf\n",
    "import tensorflow.keras.backend as K\n",
    "tf.logging.set_verbosity(tf.logging.ERROR)\n",
    "\n",
    "import cpmolgan.utils\n",
    "import cpmolgan.inference as infr"
   ]
  },
  {
   "cell_type": "markdown",
   "metadata": {},
   "source": [
    "### Inputs"
   ]
  },
  {
   "cell_type": "code",
   "execution_count": 2,
   "metadata": {},
   "outputs": [],
   "source": [
    "args = {\n",
    "    'compounds_file':'example_compounds.csv',\n",
    "    'output_file':'example_molecular_embeddings.csv',\n",
    "    'neural_net':{\n",
    "        'autoencoder': '../cpmolgan/data/selfies_EncoderDecoder_epoch0010.h5',\n",
    "         'wgan':{\n",
    "                'C': '../cpmolgan/data/wgan_C_500epochs.h5',\n",
    "                'D': '../cpmolgan/data/wgan_D_500epochs.h5',\n",
    "                'G':'../cpmolgan/data/wgan_G_500epochs.h5',\n",
    "                'condition_encoder':'../cpmolgan/data/wgan_condition_encoder_500epochs.h5',\n",
    "                'classifier':'../cpmolgan/data/wgan_classifier.h5'\n",
    "            }\n",
    "        },\n",
    "    'gpu': '7'\n",
    "}"
   ]
  },
  {
   "cell_type": "markdown",
   "metadata": {},
   "source": [
    "### Read data and standardize SMILES"
   ]
  },
  {
   "cell_type": "code",
   "execution_count": 3,
   "metadata": {},
   "outputs": [],
   "source": [
    "cpds = pd.read_csv(args['compounds_file'])\n",
    "cpds[\"SMILES_standard\"]= cpmolgan.utils.clean_smiles_parallel( cpds.SMILES )\n",
    "keep_idx = cpds.SMILES_standard.apply(lambda x: len(x) < infr.max_smiles_length )\n",
    "cpds = cpds[keep_idx].reset_index(drop=True)"
   ]
  },
  {
   "cell_type": "markdown",
   "metadata": {},
   "source": [
    "### Set compute environment"
   ]
  },
  {
   "cell_type": "code",
   "execution_count": 4,
   "metadata": {},
   "outputs": [],
   "source": [
    "os.environ['CUDA_VISIBLE_DEVICES'] = str(args['gpu'])\n",
    "gpu_options = tf.GPUOptions(visible_device_list='0')\n",
    "sess = tf.Session(config=tf.ConfigProto(gpu_options=gpu_options))\n",
    "K.set_session(sess)\n",
    "tf.config.set_soft_device_placement(True)\n",
    "tf.debugging.set_log_device_placement(True)"
   ]
  },
  {
   "cell_type": "markdown",
   "metadata": {},
   "source": [
    "### Load model and compute embeddings"
   ]
  },
  {
   "cell_type": "code",
   "execution_count": 5,
   "metadata": {},
   "outputs": [
    {
     "name": "stdout",
     "output_type": "stream",
     "text": [
      "Removing 1 compounds with unvalid selfies\n"
     ]
    }
   ],
   "source": [
    "model = infr.InferenceModel( args['neural_net'] ) \n",
    "\n",
    "# Filter out invalid selfies \n",
    "smiles = cpds.SMILES_standard.values.astype(str)\n",
    "cpds['selfies'], valid_idx = model.encode_smiles_to_selfies(smiles)\n",
    "print(\"Removing %i compounds with unvalid selfies\"%(valid_idx==False).sum())\n",
    "cpds = cpds.loc[valid_idx].reset_index(drop=True)\n",
    "\n",
    "# Compute latents\n",
    "latents = model.encode_selfies_to_latent(cpds.selfies)\n",
    "embd_cols = ['MolEmb_'+str(i) for i in range(latents.shape[1])]\n",
    "latents = pd.concat( [cpds, pd.DataFrame( columns=embd_cols, data=latents)], axis=1)"
   ]
  },
  {
   "cell_type": "markdown",
   "metadata": {},
   "source": [
    "### Save results"
   ]
  },
  {
   "cell_type": "code",
   "execution_count": 6,
   "metadata": {},
   "outputs": [],
   "source": [
    "latents.to_csv(args['output_file'], index=False)"
   ]
  },
  {
   "cell_type": "code",
   "execution_count": null,
   "metadata": {},
   "outputs": [],
   "source": []
  }
 ],
 "metadata": {
  "kernelspec": {
   "display_name": "cellpaintingGAN",
   "language": "python",
   "name": "cellpaintinggan"
  },
  "language_info": {
   "codemirror_mode": {
    "name": "ipython",
    "version": 3
   },
   "file_extension": ".py",
   "mimetype": "text/x-python",
   "name": "python",
   "nbconvert_exporter": "python",
   "pygments_lexer": "ipython3",
   "version": "3.6.10"
  }
 },
 "nbformat": 4,
 "nbformat_minor": 4
}