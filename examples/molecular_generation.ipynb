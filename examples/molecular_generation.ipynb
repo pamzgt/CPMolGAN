{
 "cells": [
  {
   "cell_type": "markdown",
   "metadata": {},
   "source": [
    "# Generate compounds"
   ]
  },
  {
   "cell_type": "code",
   "execution_count": 1,
   "metadata": {},
   "outputs": [],
   "source": [
    "import os\n",
    "import numpy as np\n",
    "import pandas as pd\n",
    "import pickle\n",
    "import sys\n",
    "sys.path.append(\"../cp_mol_gan\" )\n",
    "import utils\n",
    "import inference as infr\n",
    "import tensorflow as tf\n",
    "import tensorflow.keras.backend as K\n",
    "tf.logging.set_verbosity(tf.logging.ERROR)\n"
   ]
  },
  {
   "cell_type": "markdown",
   "metadata": {},
   "source": [
    "### Inputs"
   ]
  },
  {
   "cell_type": "code",
   "execution_count": 2,
   "metadata": {},
   "outputs": [],
   "source": [
    "args = {\n",
    "    'profiles_file':'example_data.csv',\n",
    "    'output_file':'example_generated_mols.csv',\n",
    "    \"Nmols_per_condition\": 2,\n",
    "    'quantile_transformer':'../cp_mol_gan/data/quantile_transformer.pkl',\n",
    "    'neural_net':{\n",
    "        'autoencoder': '../cp_mol_gan/data/selfies_EncoderDecoder_epoch0010.h5',\n",
    "         'wgan':{\n",
    "                'C': '../cp_mol_gan/data/wgan_C_500epochs.h5',\n",
    "                'D': '../cp_mol_gan/data/wgan_D_500epochs.h5',\n",
    "                'G':'../cp_mol_gan/data/wgan_G_500epochs.h5',\n",
    "                'condition_encoder':'../cp_mol_gan/data/wgan_condition_encoder_500epochs.h5',\n",
    "                'classifier':'../cp_mol_gan/data/wgan_classifier.h5'\n",
    "            }\n",
    "        },\n",
    "    'gpu': '7'\n",
    "}"
   ]
  },
  {
   "cell_type": "markdown",
   "metadata": {},
   "source": [
    "### Read profiles and apply quantile transformer"
   ]
  },
  {
   "cell_type": "code",
   "execution_count": 3,
   "metadata": {},
   "outputs": [
    {
     "name": "stdout",
     "output_type": "stream",
     "text": [
      "Total profiles: 10 \n",
      "Total fetaures: 1453\n"
     ]
    }
   ],
   "source": [
    "profiles = pd.read_csv(args['profiles_file'])\n",
    "quantile_transformer =  pickle.load( open( args['quantile_transformer'], 'rb' ) )\n",
    "feature_cols , meta_cols = utils.get_feature_cols(profiles)\n",
    "profiles[feature_cols] = quantile_transformer.transform(profiles[feature_cols].values) \n",
    "print('Total profiles: %i \\nTotal fetaures: %i'%profiles.shape)"
   ]
  },
  {
   "cell_type": "markdown",
   "metadata": {},
   "source": [
    "### Set compute environment"
   ]
  },
  {
   "cell_type": "code",
   "execution_count": 4,
   "metadata": {},
   "outputs": [],
   "source": [
    "os.environ['CUDA_VISIBLE_DEVICES'] = str(args['gpu'])\n",
    "gpu_options = tf.GPUOptions(visible_device_list='0')\n",
    "sess = tf.Session(config=tf.ConfigProto(gpu_options=gpu_options))\n",
    "K.set_session(sess)\n",
    "tf.config.set_soft_device_placement(True)\n",
    "tf.debugging.set_log_device_placement(True)"
   ]
  },
  {
   "cell_type": "markdown",
   "metadata": {},
   "source": [
    "### Load model and generate molecules"
   ]
  },
  {
   "cell_type": "code",
   "execution_count": 9,
   "metadata": {},
   "outputs": [
    {
     "name": "stderr",
     "output_type": "stream",
     "text": [
      "100%|██████████| 10/10 [00:05<00:00,  1.70it/s]\n"
     ]
    }
   ],
   "source": [
    "model = infr.InferenceModel( args['neural_net'] ) \n",
    "generated = infr.generate_compounds_multiple_conditions( model, profiles, feature_cols, meta_cols, seed=10, nsamples = args['Nmols_per_condition'])"
   ]
  },
  {
   "cell_type": "markdown",
   "metadata": {},
   "source": [
    "### Check validity "
   ]
  },
  {
   "cell_type": "code",
   "execution_count": 10,
   "metadata": {},
   "outputs": [],
   "source": [
    "generated[\"SMILES_standard\"]= utils.clean_smiles_parallel( generated.SMILES )\n",
    "generated['valid'] = generated.SMILES_standard.isnull()==False"
   ]
  },
  {
   "cell_type": "markdown",
   "metadata": {},
   "source": [
    "### Save results"
   ]
  },
  {
   "cell_type": "code",
   "execution_count": 7,
   "metadata": {},
   "outputs": [],
   "source": [
    "generated.to_csv( args['output_file'], index=False)"
   ]
  },
  {
   "cell_type": "code",
   "execution_count": 11,
   "metadata": {},
   "outputs": [
    {
     "data": {
      "text/html": [
       "<div>\n",
       "<style scoped>\n",
       "    .dataframe tbody tr th:only-of-type {\n",
       "        vertical-align: middle;\n",
       "    }\n",
       "\n",
       "    .dataframe tbody tr th {\n",
       "        vertical-align: top;\n",
       "    }\n",
       "\n",
       "    .dataframe thead th {\n",
       "        text-align: right;\n",
       "    }\n",
       "</style>\n",
       "<table border=\"1\" class=\"dataframe\">\n",
       "  <thead>\n",
       "    <tr style=\"text-align: right;\">\n",
       "      <th></th>\n",
       "      <th>condition_Metadata_Plate</th>\n",
       "      <th>condition_BROAD_ID</th>\n",
       "      <th>condition_SMILES</th>\n",
       "      <th>condition_Metadata_Well</th>\n",
       "      <th>SMILES</th>\n",
       "      <th>classification_score</th>\n",
       "      <th>SMILES_standard</th>\n",
       "      <th>valid</th>\n",
       "    </tr>\n",
       "  </thead>\n",
       "  <tbody>\n",
       "    <tr>\n",
       "      <th>0</th>\n",
       "      <td>24726.0</td>\n",
       "      <td>BRD-K46807184-001-01-5</td>\n",
       "      <td>C[C@@H](CO)N1C[C@@H](C)[C@@H](CN(C)C(=O)Nc2ccc...</td>\n",
       "      <td>n12</td>\n",
       "      <td>COCCNC(=O)C(=CNC(=O)OCC(c1ccccc1)NC=O)</td>\n",
       "      <td>0.935220</td>\n",
       "      <td>COCCNC(=O)C=CNC(=O)OCC(NC=O)c1ccccc1</td>\n",
       "      <td>True</td>\n",
       "    </tr>\n",
       "    <tr>\n",
       "      <th>1</th>\n",
       "      <td>24726.0</td>\n",
       "      <td>BRD-K46807184-001-01-5</td>\n",
       "      <td>C[C@@H](CO)N1C[C@@H](C)[C@@H](CN(C)C(=O)Nc2ccc...</td>\n",
       "      <td>n12</td>\n",
       "      <td>COcccc(C(=O)NNC(=O)Nccc(C(F)(F)F)nc(N1CCCCC1))</td>\n",
       "      <td>0.904445</td>\n",
       "      <td>None</td>\n",
       "      <td>False</td>\n",
       "    </tr>\n",
       "    <tr>\n",
       "      <th>2</th>\n",
       "      <td>25639.0</td>\n",
       "      <td>BRD-A71962374-001-05-9</td>\n",
       "      <td>CCOC(=O)C(CC)Sc1nc2c(c(=O)[nH]c(=O)n2C)n1C/C=C...</td>\n",
       "      <td>p16</td>\n",
       "      <td>CNCCc1sc2c(c1C)N(C(=O)c1c[nH]c3ccccc13)C(=O)N2C</td>\n",
       "      <td>0.802137</td>\n",
       "      <td>CNCCc1sc2c(c1C)n(C(=O)c1c[nH]c3ccccc13)c(=O)n2C</td>\n",
       "      <td>True</td>\n",
       "    </tr>\n",
       "    <tr>\n",
       "      <th>3</th>\n",
       "      <td>25639.0</td>\n",
       "      <td>BRD-A71962374-001-05-9</td>\n",
       "      <td>CCOC(=O)C(CC)Sc1nc2c(c(=O)[nH]c(=O)n2C)n1C/C=C...</td>\n",
       "      <td>p16</td>\n",
       "      <td>COcccc(CN(C)nn1c(=O)nc(-c2ccc3(F)cc2)c1C3)#N</td>\n",
       "      <td>0.787629</td>\n",
       "      <td>None</td>\n",
       "      <td>False</td>\n",
       "    </tr>\n",
       "    <tr>\n",
       "      <th>4</th>\n",
       "      <td>24512.0</td>\n",
       "      <td>BRD-K17354218-001-06-2</td>\n",
       "      <td>C=CCN1C(=O)NC(=O)/C(=C\\Nc2ccc(OC)cc2C)C1=O</td>\n",
       "      <td>i03</td>\n",
       "      <td>O=Cc1ccc2cc1-c1c(ccc(n1)NC(=O)NO)C(=O)N(C)C2</td>\n",
       "      <td>0.802505</td>\n",
       "      <td>CN1Cc2ccc(C=O)c(c2)-c2nc(NC(=O)NO)ccc2C1=O</td>\n",
       "      <td>True</td>\n",
       "    </tr>\n",
       "  </tbody>\n",
       "</table>\n",
       "</div>"
      ],
      "text/plain": [
       "   condition_Metadata_Plate      condition_BROAD_ID  \\\n",
       "0                   24726.0  BRD-K46807184-001-01-5   \n",
       "1                   24726.0  BRD-K46807184-001-01-5   \n",
       "2                   25639.0  BRD-A71962374-001-05-9   \n",
       "3                   25639.0  BRD-A71962374-001-05-9   \n",
       "4                   24512.0  BRD-K17354218-001-06-2   \n",
       "\n",
       "                                    condition_SMILES condition_Metadata_Well  \\\n",
       "0  C[C@@H](CO)N1C[C@@H](C)[C@@H](CN(C)C(=O)Nc2ccc...                     n12   \n",
       "1  C[C@@H](CO)N1C[C@@H](C)[C@@H](CN(C)C(=O)Nc2ccc...                     n12   \n",
       "2  CCOC(=O)C(CC)Sc1nc2c(c(=O)[nH]c(=O)n2C)n1C/C=C...                     p16   \n",
       "3  CCOC(=O)C(CC)Sc1nc2c(c(=O)[nH]c(=O)n2C)n1C/C=C...                     p16   \n",
       "4         C=CCN1C(=O)NC(=O)/C(=C\\Nc2ccc(OC)cc2C)C1=O                     i03   \n",
       "\n",
       "                                            SMILES  classification_score  \\\n",
       "0           COCCNC(=O)C(=CNC(=O)OCC(c1ccccc1)NC=O)              0.935220   \n",
       "1   COcccc(C(=O)NNC(=O)Nccc(C(F)(F)F)nc(N1CCCCC1))              0.904445   \n",
       "2  CNCCc1sc2c(c1C)N(C(=O)c1c[nH]c3ccccc13)C(=O)N2C              0.802137   \n",
       "3     COcccc(CN(C)nn1c(=O)nc(-c2ccc3(F)cc2)c1C3)#N              0.787629   \n",
       "4     O=Cc1ccc2cc1-c1c(ccc(n1)NC(=O)NO)C(=O)N(C)C2              0.802505   \n",
       "\n",
       "                                   SMILES_standard  valid  \n",
       "0             COCCNC(=O)C=CNC(=O)OCC(NC=O)c1ccccc1   True  \n",
       "1                                             None  False  \n",
       "2  CNCCc1sc2c(c1C)n(C(=O)c1c[nH]c3ccccc13)c(=O)n2C   True  \n",
       "3                                             None  False  \n",
       "4       CN1Cc2ccc(C=O)c(c2)-c2nc(NC(=O)NO)ccc2C1=O   True  "
      ]
     },
     "execution_count": 11,
     "metadata": {},
     "output_type": "execute_result"
    }
   ],
   "source": [
    "generated.head()"
   ]
  },
  {
   "cell_type": "code",
   "execution_count": null,
   "metadata": {},
   "outputs": [],
   "source": []
  }
 ],
 "metadata": {
  "kernelspec": {
   "display_name": "cellpaintingGAN",
   "language": "python",
   "name": "cellpaintinggan"
  },
  "language_info": {
   "codemirror_mode": {
    "name": "ipython",
    "version": 3
   },
   "file_extension": ".py",
   "mimetype": "text/x-python",
   "name": "python",
   "nbconvert_exporter": "python",
   "pygments_lexer": "ipython3",
   "version": "3.6.10"
  }
 },
 "nbformat": 4,
 "nbformat_minor": 4
}
