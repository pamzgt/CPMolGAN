{
 "cells": [
  {
   "cell_type": "markdown",
   "metadata": {},
   "source": [
    "# Generate compounds"
   ]
  },
  {
   "cell_type": "code",
   "execution_count": 1,
   "metadata": {},
   "outputs": [],
   "source": [
    "import os\n",
    "import numpy as np\n",
    "import pandas as pd\n",
    "import pickle\n",
    "import sys\n",
    "sys.path.append(\"../cp_mol_gan\" )\n",
    "import utils\n",
    "import inference as infr\n",
    "import tensorflow as tf\n",
    "import tensorflow.keras.backend as K\n",
    "tf.logging.set_verbosity(tf.logging.ERROR)\n"
   ]
  },
  {
   "cell_type": "markdown",
   "metadata": {},
   "source": [
    "### Inputs"
   ]
  },
  {
   "cell_type": "code",
   "execution_count": 2,
   "metadata": {},
   "outputs": [],
   "source": [
    "args = {\n",
    "    'profiles_file':'example_data.csv',\n",
    "    'output_file':'example_generated_mols.csv',\n",
    "    \"Nmols_per_condition\": 2,\n",
    "    'quantile_transformer':'../cp_mol_gan/data/quantile_transformer.pkl',\n",
    "    'neural_net':{\n",
    "        'autoencoder': '../cp_mol_gan/data/selfies_EncoderDecoder_epoch0010.h5',\n",
    "         'wgan':{\n",
    "                'C': '../cp_mol_gan/data/wgan_C_500epochs.h5',\n",
    "                'D': '../cp_mol_gan/data/wgan_D_500epochs.h5',\n",
    "                'G1':'../cp_mol_gan/data/wgan_G_500epochs.h5',\n",
    "                'condition_encoder':'../cp_mol_gan/data/wgan_condition_encoder_500epochs.h5',\n",
    "                'classifier':'../cp_mol_gan/data/wgan_classifier.h5'\n",
    "            }\n",
    "        },\n",
    "    'gpu': '7'\n",
    "}"
   ]
  },
  {
   "cell_type": "markdown",
   "metadata": {},
   "source": [
    "### Read profiles and apply quantile transformer"
   ]
  },
  {
   "cell_type": "code",
   "execution_count": 3,
   "metadata": {},
   "outputs": [
    {
     "name": "stdout",
     "output_type": "stream",
     "text": [
      "Total profiles: 100 \n",
      "Total fetaures: 1454\n"
     ]
    }
   ],
   "source": [
    "profiles = pd.read_csv(args['profiles_file'])\n",
    "quantile_transformer =  pickle.load( open( args['quantile_transformer'], 'rb' ) )\n",
    "feature_cols , meta_cols = utils.get_feature_cols(profiles)\n",
    "profiles[feature_cols] = quantile_transformer.transform(profiles[feature_cols].values) \n",
    "print('Total profiles: %i \\nTotal fetaures: %i'%profiles.shape)"
   ]
  },
  {
   "cell_type": "markdown",
   "metadata": {},
   "source": [
    "### Set compute environment"
   ]
  },
  {
   "cell_type": "code",
   "execution_count": 4,
   "metadata": {},
   "outputs": [],
   "source": [
    "os.environ['CUDA_VISIBLE_DEVICES'] = str(args['gpu'])\n",
    "gpu_options = tf.GPUOptions(visible_device_list='0')\n",
    "sess = tf.Session(config=tf.ConfigProto(gpu_options=gpu_options))\n",
    "K.set_session(sess)\n",
    "tf.config.set_soft_device_placement(True)\n",
    "tf.debugging.set_log_device_placement(True)"
   ]
  },
  {
   "cell_type": "markdown",
   "metadata": {},
   "source": [
    "### Load model and generate molecules"
   ]
  },
  {
   "cell_type": "code",
   "execution_count": 5,
   "metadata": {},
   "outputs": [
    {
     "name": "stderr",
     "output_type": "stream",
     "text": [
      "100%|██████████| 100/100 [00:54<00:00,  1.85it/s]\n"
     ]
    }
   ],
   "source": [
    "model = infr.InferenceModel( args['neural_net'] ) \n",
    "generated = infr.generate_compounds_multiple_conditions( model, profiles, feature_cols, meta_cols, seed=10, nsamples = args['Nmols_per_condition'])"
   ]
  },
  {
   "cell_type": "markdown",
   "metadata": {},
   "source": [
    "### Check validity "
   ]
  },
  {
   "cell_type": "code",
   "execution_count": 6,
   "metadata": {},
   "outputs": [],
   "source": [
    "generated[\"SMILES_standard\"]= utils.clean_smiles_parallel( generated.SMILES )\n",
    "generated['valid'] = generated.SMILES_standard.isnull()==False"
   ]
  },
  {
   "cell_type": "markdown",
   "metadata": {},
   "source": [
    "### Save results"
   ]
  },
  {
   "cell_type": "code",
   "execution_count": 8,
   "metadata": {},
   "outputs": [],
   "source": [
    "generated.to_csv( args['output_file'], index=False)"
   ]
  }
 ],
 "metadata": {
  "kernelspec": {
   "display_name": "cellpaintingGAN",
   "language": "python",
   "name": "cellpaintinggan"
  },
  "language_info": {
   "codemirror_mode": {
    "name": "ipython",
    "version": 3
   },
   "file_extension": ".py",
   "mimetype": "text/x-python",
   "name": "python",
   "nbconvert_exporter": "python",
   "pygments_lexer": "ipython3",
   "version": "3.6.10"
  }
 },
 "nbformat": 4,
 "nbformat_minor": 4
}
