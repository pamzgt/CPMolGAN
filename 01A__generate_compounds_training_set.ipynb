{
 "cells": [
  {
   "cell_type": "markdown",
   "metadata": {},
   "source": [
    "# Generate compound conditioning on profiles from the training set\n",
    "Unlike other molecule generation scripts, here we fix the number of generation tries and not the number of valid/unique generated molecules since we want to get stats on the validity and uniqueness of the generation process"
   ]
  },
  {
   "cell_type": "code",
   "execution_count": 1,
   "metadata": {},
   "outputs": [
    {
     "data": {
      "text/plain": [
       "<module 'inference' from '/gpfs01/home/ghpxd/CellPainting_GAN/git_repo/cellpainting_for_compound_generation/Conditioned_GAN/inference.py'>"
      ]
     },
     "execution_count": 1,
     "metadata": {},
     "output_type": "execute_result"
    }
   ],
   "source": [
    "import os\n",
    "import numpy as np\n",
    "import pandas as pd\n",
    "import pickle\n",
    "import tensorflow as tf\n",
    "import tensorflow.keras.backend as K\n",
    "import logging \n",
    "import inference as infr\n",
    "import utils\n",
    "\n",
    "from sklearn.preprocessing import QuantileTransformer\n",
    "from rdkit import Chem\n",
    "from rdkit.Chem.Descriptors import qed\n",
    "import sys\n",
    "sys.path.append(os.path.join(Chem.RDConfig.RDContribDir, 'SA_Score'))\n",
    "import sascorer\n",
    "\n",
    "\n",
    "from importlib import reload\n",
    "reload(infr)"
   ]
  },
  {
   "cell_type": "markdown",
   "metadata": {},
   "source": [
    "### Arguments"
   ]
  },
  {
   "cell_type": "code",
   "execution_count": 2,
   "metadata": {},
   "outputs": [
    {
     "data": {
      "text/plain": [
       "'Results/train_rand__GeneratedMols_CondSingleProfiles/generated_mols/'"
      ]
     },
     "execution_count": 2,
     "metadata": {},
     "output_type": "execute_result"
    }
   ],
   "source": [
    "args = {\n",
    "    \"Nmols_total\":30000,\n",
    "    \"Nmols_per_condition\": 1,\n",
    "    \"use_median_profile\":False,\n",
    "    \"shuffle_features\":False,\n",
    "    \"conditon_subgroup\": ['Cpds','DMSO',\"CpdsAndDMSO\"][0],\n",
    "    'gpu': '7',\n",
    "    'filename_train_profiles':'Data/Compound_dataset/CellPainting_30kcpds_normalized_profiles__final.csv.gz',\n",
    "    'filename_train_MolEmbeddings':'Data/Compound_dataset/CellPainting_30kcpds__molecular_embeddings__unique_SMILES.csv',\n",
    "    'filename_quantile_transformer':'Trained_models/quantile_transformer.pkl',\n",
    "    'model_weight_paths':{\n",
    "        'autoencoder': 'Trained_models/Selfies_Autoencoder/selfies_EncoderDecoder_epoch0010.h5',\n",
    "        'wgan':{\n",
    "            'C': 'Trained_models/WGAN/wgan_C_500epochs.h5',\n",
    "            'D': 'Trained_models/WGAN/wgan_D_500epochs.h5',\n",
    "            'G1':'Trained_models/WGAN/wgan_G1_500epochs.h5',\n",
    "            'condition_encoder':'Trained_models/WGAN/wgan_condition_encoder_500epochs.h5',\n",
    "            'classifier':'Trained_models/WGAN/wgan_classifier.h5',\n",
    "        }\n",
    "    },\n",
    "    \"output_dir\":\"Results/train_rand__GeneratedMols_COND_SHUFF/generated_mols/\"\n",
    "}\n",
    "\n",
    "# Output file and directories automatic naming\n",
    "if args[\"use_median_profile\"]: args[\"output_dir\"]=args[\"output_dir\"].replace(\"COND\",\"CondMedianProfile\")\n",
    "else: args[\"output_dir\"]=args[\"output_dir\"].replace(\"COND\",\"CondSingleProfiles\")\n",
    "args[\"output_dir\"] = args[\"output_dir\"].replace(\"_SHUFF\",\"_ShuffledFeatures\"*args['shuffle_features'])\n",
    "\n",
    "if not os.path.isdir(args[\"output_dir\"]):\n",
    "    os.makedirs(args[\"output_dir\"])\n",
    "args[\"output_dir\"]"
   ]
  },
  {
   "cell_type": "markdown",
   "metadata": {},
   "source": [
    "### logging and GPU set up"
   ]
  },
  {
   "cell_type": "code",
   "execution_count": 3,
   "metadata": {},
   "outputs": [],
   "source": [
    "logging.basicConfig(level=logging.INFO, format ='%(levelname)s - %(message)s')\n",
    "tf.logging.set_verbosity(tf.logging.ERROR)\n",
    "\n",
    "os.environ['CUDA_VISIBLE_DEVICES'] = str(args['gpu'])\n",
    "gpu_options = tf.GPUOptions(visible_device_list='0')\n",
    "sess = tf.Session(config=tf.ConfigProto(gpu_options=gpu_options))\n",
    "K.set_session(sess)\n",
    "tf.config.set_soft_device_placement(True)\n",
    "tf.debugging.set_log_device_placement(True)"
   ]
  },
  {
   "cell_type": "markdown",
   "metadata": {},
   "source": [
    "## 1. Load inference model and quantile transformer"
   ]
  },
  {
   "cell_type": "code",
   "execution_count": 4,
   "metadata": {},
   "outputs": [],
   "source": [
    "quantile_transformer =  pickle.load( open( args['filename_quantile_transformer'], 'rb' ) )\n",
    "model = infr.InferenceModel( args['model_weight_paths'] ) "
   ]
  },
  {
   "cell_type": "markdown",
   "metadata": {},
   "source": [
    "## 2. Read profiles and apply transformer\n",
    "Takes long ..."
   ]
  },
  {
   "cell_type": "code",
   "execution_count": 5,
   "metadata": {},
   "outputs": [
    {
     "name": "stdout",
     "output_type": "stream",
     "text": [
      "Number of Morphological profiles: 153351\n"
     ]
    }
   ],
   "source": [
    "data_train = pd.read_csv(args['filename_train_profiles'], index_col=0 )\n",
    "data_train = data_train.rename(columns={\"SMILES_standard\":\"SMILES_standard_conditioned\"})\n",
    "\n",
    "feature_cols , _ = utils.get_feature_cols(data_train)\n",
    "data_train[feature_cols] = quantile_transformer.transform(data_train[feature_cols].values) \n",
    "print('Number of Morphological profiles: %i'%data_train.shape[0])"
   ]
  },
  {
   "cell_type": "code",
   "execution_count": 6,
   "metadata": {},
   "outputs": [
    {
     "data": {
      "text/html": [
       "<div>\n",
       "<style scoped>\n",
       "    .dataframe tbody tr th:only-of-type {\n",
       "        vertical-align: middle;\n",
       "    }\n",
       "\n",
       "    .dataframe tbody tr th {\n",
       "        vertical-align: top;\n",
       "    }\n",
       "\n",
       "    .dataframe thead th {\n",
       "        text-align: right;\n",
       "    }\n",
       "</style>\n",
       "<table border=\"1\" class=\"dataframe\">\n",
       "  <thead>\n",
       "    <tr style=\"text-align: right;\">\n",
       "      <th></th>\n",
       "      <th>Metadata_broad_sample</th>\n",
       "      <th>Metadata_Plate</th>\n",
       "      <th>Metadata_Well</th>\n",
       "      <th>BROAD_ID</th>\n",
       "      <th>CPD_NAME</th>\n",
       "      <th>SMILES_standard_conditioned</th>\n",
       "      <th>structure</th>\n",
       "      <th>Cells_AreaShape_Area</th>\n",
       "      <th>Cells_AreaShape_Center_X</th>\n",
       "      <th>Cells_AreaShape_Center_Y</th>\n",
       "      <th>...</th>\n",
       "      <th>Nuclei_Texture_Variance_DNA_5_0</th>\n",
       "      <th>Nuclei_Texture_Variance_ER_10_0</th>\n",
       "      <th>Nuclei_Texture_Variance_ER_3_0</th>\n",
       "      <th>Nuclei_Texture_Variance_ER_5_0</th>\n",
       "      <th>Nuclei_Texture_Variance_Mito_10_0</th>\n",
       "      <th>Nuclei_Texture_Variance_Mito_3_0</th>\n",
       "      <th>Nuclei_Texture_Variance_Mito_5_0</th>\n",
       "      <th>Nuclei_Texture_Variance_RNA_10_0</th>\n",
       "      <th>Nuclei_Texture_Variance_RNA_3_0</th>\n",
       "      <th>Nuclei_Texture_Variance_RNA_5_0</th>\n",
       "    </tr>\n",
       "  </thead>\n",
       "  <tbody>\n",
       "    <tr>\n",
       "      <th>0</th>\n",
       "      <td>DMSO</td>\n",
       "      <td>24512.0</td>\n",
       "      <td>a01</td>\n",
       "      <td>NaN</td>\n",
       "      <td>NaN</td>\n",
       "      <td>NaN</td>\n",
       "      <td>NaN</td>\n",
       "      <td>0.919258</td>\n",
       "      <td>1.835465</td>\n",
       "      <td>-0.407943</td>\n",
       "      <td>...</td>\n",
       "      <td>-0.455231</td>\n",
       "      <td>0.613343</td>\n",
       "      <td>0.475295</td>\n",
       "      <td>0.300097</td>\n",
       "      <td>-1.024866</td>\n",
       "      <td>-1.048468</td>\n",
       "      <td>-1.151256</td>\n",
       "      <td>-0.492058</td>\n",
       "      <td>-0.565263</td>\n",
       "      <td>-0.318163</td>\n",
       "    </tr>\n",
       "    <tr>\n",
       "      <th>1</th>\n",
       "      <td>DMSO</td>\n",
       "      <td>24512.0</td>\n",
       "      <td>a02</td>\n",
       "      <td>NaN</td>\n",
       "      <td>NaN</td>\n",
       "      <td>NaN</td>\n",
       "      <td>NaN</td>\n",
       "      <td>-0.312693</td>\n",
       "      <td>1.525036</td>\n",
       "      <td>-0.793711</td>\n",
       "      <td>...</td>\n",
       "      <td>-0.661935</td>\n",
       "      <td>-0.022998</td>\n",
       "      <td>0.238424</td>\n",
       "      <td>0.267652</td>\n",
       "      <td>-1.284063</td>\n",
       "      <td>-0.997971</td>\n",
       "      <td>-1.059767</td>\n",
       "      <td>-0.405197</td>\n",
       "      <td>-0.375833</td>\n",
       "      <td>-0.151537</td>\n",
       "    </tr>\n",
       "    <tr>\n",
       "      <th>2</th>\n",
       "      <td>BRD-K58665933-001-06-5</td>\n",
       "      <td>24512.0</td>\n",
       "      <td>a03</td>\n",
       "      <td>BRD-K58665933-001-06-5</td>\n",
       "      <td>BRD-K58665933</td>\n",
       "      <td>Nc1nc(Nc2cccc(F)c2)nc(NCc2ccco2)c1[N+](=O)[O-]</td>\n",
       "      <td>Nc1nc(Nc2cccc(F)c2)nc(NCc2ccco2)c1[N+](=O)[O-]</td>\n",
       "      <td>0.056372</td>\n",
       "      <td>0.433012</td>\n",
       "      <td>-0.690138</td>\n",
       "      <td>...</td>\n",
       "      <td>-0.037428</td>\n",
       "      <td>0.882511</td>\n",
       "      <td>-0.335781</td>\n",
       "      <td>0.085200</td>\n",
       "      <td>-0.801905</td>\n",
       "      <td>-1.773358</td>\n",
       "      <td>-1.421458</td>\n",
       "      <td>-0.823743</td>\n",
       "      <td>-1.225657</td>\n",
       "      <td>-1.071240</td>\n",
       "    </tr>\n",
       "    <tr>\n",
       "      <th>3</th>\n",
       "      <td>BRD-K14750527-001-07-8</td>\n",
       "      <td>24512.0</td>\n",
       "      <td>a04</td>\n",
       "      <td>BRD-K14750527-001-07-8</td>\n",
       "      <td>BRD-K14750527</td>\n",
       "      <td>CCNc1nc(NC(C)C)nc(NC(C)(C)C)n1</td>\n",
       "      <td>CCNc1nc(NC(C)C)nc(NC(C)(C)C)n1</td>\n",
       "      <td>-0.429885</td>\n",
       "      <td>0.042910</td>\n",
       "      <td>0.478025</td>\n",
       "      <td>...</td>\n",
       "      <td>-0.098636</td>\n",
       "      <td>-1.995082</td>\n",
       "      <td>-0.850405</td>\n",
       "      <td>-0.985754</td>\n",
       "      <td>-1.275041</td>\n",
       "      <td>-1.156870</td>\n",
       "      <td>-1.024981</td>\n",
       "      <td>-0.414297</td>\n",
       "      <td>-0.861382</td>\n",
       "      <td>-0.977865</td>\n",
       "    </tr>\n",
       "    <tr>\n",
       "      <th>4</th>\n",
       "      <td>BRD-K58826199-001-05-4</td>\n",
       "      <td>24512.0</td>\n",
       "      <td>a05</td>\n",
       "      <td>BRD-K58826199-001-05-4</td>\n",
       "      <td>BRD-K58826199</td>\n",
       "      <td>Cc1c(Br)c(=O)oc2c(C)c(O)ccc12</td>\n",
       "      <td>Cc1c(Br)c(=O)oc2c(C)c(O)ccc12</td>\n",
       "      <td>0.381937</td>\n",
       "      <td>0.771178</td>\n",
       "      <td>0.735148</td>\n",
       "      <td>...</td>\n",
       "      <td>-0.021834</td>\n",
       "      <td>-1.223184</td>\n",
       "      <td>-1.016891</td>\n",
       "      <td>-1.160295</td>\n",
       "      <td>-0.634518</td>\n",
       "      <td>-0.932297</td>\n",
       "      <td>-0.862763</td>\n",
       "      <td>-0.480909</td>\n",
       "      <td>-0.675575</td>\n",
       "      <td>-0.479456</td>\n",
       "    </tr>\n",
       "  </tbody>\n",
       "</table>\n",
       "<p>5 rows × 1456 columns</p>\n",
       "</div>"
      ],
      "text/plain": [
       "    Metadata_broad_sample  Metadata_Plate Metadata_Well  \\\n",
       "0                    DMSO         24512.0           a01   \n",
       "1                    DMSO         24512.0           a02   \n",
       "2  BRD-K58665933-001-06-5         24512.0           a03   \n",
       "3  BRD-K14750527-001-07-8         24512.0           a04   \n",
       "4  BRD-K58826199-001-05-4         24512.0           a05   \n",
       "\n",
       "                 BROAD_ID       CPD_NAME  \\\n",
       "0                     NaN            NaN   \n",
       "1                     NaN            NaN   \n",
       "2  BRD-K58665933-001-06-5  BRD-K58665933   \n",
       "3  BRD-K14750527-001-07-8  BRD-K14750527   \n",
       "4  BRD-K58826199-001-05-4  BRD-K58826199   \n",
       "\n",
       "                      SMILES_standard_conditioned  \\\n",
       "0                                             NaN   \n",
       "1                                             NaN   \n",
       "2  Nc1nc(Nc2cccc(F)c2)nc(NCc2ccco2)c1[N+](=O)[O-]   \n",
       "3                  CCNc1nc(NC(C)C)nc(NC(C)(C)C)n1   \n",
       "4                   Cc1c(Br)c(=O)oc2c(C)c(O)ccc12   \n",
       "\n",
       "                                        structure  Cells_AreaShape_Area  \\\n",
       "0                                             NaN              0.919258   \n",
       "1                                             NaN             -0.312693   \n",
       "2  Nc1nc(Nc2cccc(F)c2)nc(NCc2ccco2)c1[N+](=O)[O-]              0.056372   \n",
       "3                  CCNc1nc(NC(C)C)nc(NC(C)(C)C)n1             -0.429885   \n",
       "4                   Cc1c(Br)c(=O)oc2c(C)c(O)ccc12              0.381937   \n",
       "\n",
       "   Cells_AreaShape_Center_X  Cells_AreaShape_Center_Y  \\\n",
       "0                  1.835465                 -0.407943   \n",
       "1                  1.525036                 -0.793711   \n",
       "2                  0.433012                 -0.690138   \n",
       "3                  0.042910                  0.478025   \n",
       "4                  0.771178                  0.735148   \n",
       "\n",
       "                ...                 Nuclei_Texture_Variance_DNA_5_0  \\\n",
       "0               ...                                       -0.455231   \n",
       "1               ...                                       -0.661935   \n",
       "2               ...                                       -0.037428   \n",
       "3               ...                                       -0.098636   \n",
       "4               ...                                       -0.021834   \n",
       "\n",
       "   Nuclei_Texture_Variance_ER_10_0  Nuclei_Texture_Variance_ER_3_0  \\\n",
       "0                         0.613343                        0.475295   \n",
       "1                        -0.022998                        0.238424   \n",
       "2                         0.882511                       -0.335781   \n",
       "3                        -1.995082                       -0.850405   \n",
       "4                        -1.223184                       -1.016891   \n",
       "\n",
       "   Nuclei_Texture_Variance_ER_5_0  Nuclei_Texture_Variance_Mito_10_0  \\\n",
       "0                        0.300097                          -1.024866   \n",
       "1                        0.267652                          -1.284063   \n",
       "2                        0.085200                          -0.801905   \n",
       "3                       -0.985754                          -1.275041   \n",
       "4                       -1.160295                          -0.634518   \n",
       "\n",
       "   Nuclei_Texture_Variance_Mito_3_0  Nuclei_Texture_Variance_Mito_5_0  \\\n",
       "0                         -1.048468                         -1.151256   \n",
       "1                         -0.997971                         -1.059767   \n",
       "2                         -1.773358                         -1.421458   \n",
       "3                         -1.156870                         -1.024981   \n",
       "4                         -0.932297                         -0.862763   \n",
       "\n",
       "   Nuclei_Texture_Variance_RNA_10_0  Nuclei_Texture_Variance_RNA_3_0  \\\n",
       "0                         -0.492058                        -0.565263   \n",
       "1                         -0.405197                        -0.375833   \n",
       "2                         -0.823743                        -1.225657   \n",
       "3                         -0.414297                        -0.861382   \n",
       "4                         -0.480909                        -0.675575   \n",
       "\n",
       "   Nuclei_Texture_Variance_RNA_5_0  \n",
       "0                        -0.318163  \n",
       "1                        -0.151537  \n",
       "2                        -1.071240  \n",
       "3                        -0.977865  \n",
       "4                        -0.479456  \n",
       "\n",
       "[5 rows x 1456 columns]"
      ]
     },
     "execution_count": 6,
     "metadata": {},
     "output_type": "execute_result"
    }
   ],
   "source": [
    "data_train.head()"
   ]
  },
  {
   "cell_type": "markdown",
   "metadata": {},
   "source": [
    "## 3. Select data subset:"
   ]
  },
  {
   "cell_type": "code",
   "execution_count": 7,
   "metadata": {},
   "outputs": [
    {
     "name": "stdout",
     "output_type": "stream",
     "text": [
      "Number of selected samples: 126779\n",
      "Number of unique cpds : 15413\n",
      "\n",
      "After removing cpds with invalid molecular embeddings\n",
      "Number of selected samples: 117424\n",
      "Number of unique cpds : 13448\n"
     ]
    }
   ],
   "source": [
    "# Compounds and/or DMSO\n",
    "if args['conditon_subgroup'] == 'Cpds':\n",
    "    data = data_train[ data_train['Metadata_broad_sample'] !='DMSO' ].reset_index(drop=True)\n",
    "elif args['conditon_subgroup'] == 'DMSO':\n",
    "    data = data_train[ data_train['Metadata_broad_sample'] =='DMSO'].reset_index(drop=True)\n",
    "else:\n",
    "    data = data_train\n",
    "print('Number of selected samples: %i'%len(data))\n",
    "print('Number of unique cpds : %i'%len(data.SMILES_standard_conditioned.unique()))\n",
    "\n",
    "# If compounds are included, only use profiles from molecules with a valid molecular embedding\n",
    "# Since some molecules do not have a valid selifes conversion\n",
    "if args['conditon_subgroup'] != 'DMSO':\n",
    "    embd_df = pd.read_csv(args['filename_train_MolEmbeddings'],index_col=0) \n",
    "    data = data.loc[ data.SMILES_standard_conditioned.isin(embd_df.SMILES_standard)].reset_index(drop=True)\n",
    "    print(\"\\nAfter removing cpds with invalid molecular embeddings\")\n",
    "print('Number of selected samples: %i'%len(data))\n",
    "print('Number of unique cpds : %i'%len(data.SMILES_standard_conditioned.unique()))\n",
    "    "
   ]
  },
  {
   "cell_type": "markdown",
   "metadata": {},
   "source": [
    "## 4. Calculate median profile or shuffle features if asked "
   ]
  },
  {
   "cell_type": "code",
   "execution_count": 8,
   "metadata": {},
   "outputs": [],
   "source": [
    "if args[\"use_median_profile\"]:\n",
    "    logging.info(\"Calculating mean profiles\")\n",
    "    data = data[ [\"Metadata_broad_sample\"] + feature_cols ].groupby(by=\"Metadata_broad_sample\").median().reset_index(drop=False) # all other cols dont apply anymore \n",
    "else: \n",
    "    data = data[ [\"Metadata_Plate\",\"Metadata_Well\",\"Metadata_broad_sample\",\"SMILES_standard_conditioned\"] + feature_cols  ]\n",
    "\n",
    "feature_cols , info_cols = utils.get_feature_cols(data)\n",
    "if args['shuffle_features']:\n",
    "    logging.info(\"Shuffling features\")\n",
    "    data[feature_cols] = data[feature_cols].sample(frac=1).values # Do not remove values. It will align the indexes and not shuffle \n"
   ]
  },
  {
   "cell_type": "markdown",
   "metadata": {},
   "source": [
    "## 5. Select random subset of profiles"
   ]
  },
  {
   "cell_type": "code",
   "execution_count": 9,
   "metadata": {},
   "outputs": [
    {
     "name": "stdout",
     "output_type": "stream",
     "text": [
      "Using 30000 profiles for molecule generation\n"
     ]
    }
   ],
   "source": [
    "# Randomly sample 2 profiles per SMILES standard\n",
    "if args['Nmols_total']==None:\n",
    "    print(\"Selecting Two cpd per smiles\")\n",
    "    \n",
    "    def sample_2(x):\n",
    "        if len(x)<2: return x\n",
    "        else: return x.sample(2,random_state=10)\n",
    "        \n",
    "    rand_subset = data.groupby(by='SMILES_standard_conditioned').apply(lambda x: sample_2(x)).reset_index(drop=True)\n",
    "    Nmols_str = '2ProfPerUniqueSmile_'+str(args['Nmols_per_condition'])+'PerCond'\n",
    "\n",
    "# Randomly sample a given number of profiles without caring about its SMILES    \n",
    "else:\n",
    "    Nconditions = int(np.ceil( args['Nmols_total']/args['Nmols_per_condition'] ))\n",
    "    rand_subset = data.sample(Nconditions, random_state=10).reset_index(drop=True)\n",
    "    Nmols_str = str(args[\"Nmols_total\"])\n",
    "print(\"Using %i profiles for molecule generation\"%len(rand_subset))"
   ]
  },
  {
   "cell_type": "markdown",
   "metadata": {},
   "source": [
    "## 6. Generate molecules"
   ]
  },
  {
   "cell_type": "code",
   "execution_count": 11,
   "metadata": {
    "tags": []
   },
   "outputs": [
    {
     "name": "stdout",
     "output_type": "stream",
     "text": [
      "File Results/train_rand__GeneratedMols_CondSingleProfiles/generated_mols/Cpds__30000.csv already exists. Please remove it to re-wrtite it\n"
     ]
    }
   ],
   "source": [
    "# Define output file and check that it doesnt aleady exits\n",
    "output_file = os.path.join(args[\"output_dir\"], args['conditon_subgroup']+'__'+Nmols_str+\".csv\")\n",
    "\n",
    "if not os.path.isfile(output_file):\n",
    "\n",
    "    # Generate molecules\n",
    "    generated = infr.generate_compounds_multiple_conditions( model, rand_subset, feature_cols, info_cols, seed=10, nsamples = args['Nmols_per_condition'])\n",
    "\n",
    "    # Standardize SMILES and check validity and other properties\n",
    "    generated[\"SMILES_standard\"]= utils.clean_smiles_parallel( generated.SMILES )\n",
    "    generated['valid'] = generated.SMILES_standard.isnull()==False\n",
    "    idx = generated['valid'] == True\n",
    "    physchem_filterer = utils.PhysChemFilters()\n",
    "    generated.loc[idx, \"pass_physchem_filter\"] =  generated.loc[idx, \"SMILES_standard\"].apply(lambda x: physchem_filterer.apply_filters(x))\n",
    "    rdkit_mols = [ Chem.MolFromSmiles(x) for x in generated.loc[idx, 'SMILES_standard'] ]\n",
    "    generated.loc[idx, \"SA_score\"]  = [ sascorer.calculateScore(x) for x in rdkit_mols]\n",
    "    generated.loc[idx, \"QED_score\"] = [ qed(x) for x in rdkit_mols]\n",
    "\n",
    "    # Save results\n",
    "    logging.info(\"Saving to %s\"%output_file)\n",
    "    generated.to_csv(output_file)\n",
    "\n",
    "else:\n",
    "    print(\"File %s already exists. Please remove it to re-wrtite it\"%output_file)"
   ]
  },
  {
   "cell_type": "code",
   "execution_count": null,
   "metadata": {},
   "outputs": [],
   "source": []
  },
  {
   "cell_type": "code",
   "execution_count": null,
   "metadata": {},
   "outputs": [],
   "source": []
  },
  {
   "cell_type": "code",
   "execution_count": null,
   "metadata": {},
   "outputs": [],
   "source": []
  }
 ],
 "metadata": {
  "kernelspec": {
   "display_name": "CP_GAN",
   "language": "python",
   "name": "cp_gan"
  },
  "language_info": {
   "codemirror_mode": {
    "name": "ipython",
    "version": 3
   },
   "file_extension": ".py",
   "mimetype": "text/x-python",
   "name": "python",
   "nbconvert_exporter": "python",
   "pygments_lexer": "ipython3",
   "version": "3.6.10"
  }
 },
 "nbformat": 4,
 "nbformat_minor": 4
}
